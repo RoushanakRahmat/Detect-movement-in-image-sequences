{
 "cells": [
  {
   "cell_type": "markdown",
   "metadata": {
    "tags": []
   },
   "source": [
    "## Detect movement in image sequences\n",
    "\n",
    "In this approach, a foreground mask namely is generated as a binary image. This is calculated by just subtracting between each frame from the previous frame. This helps to identify the pixels belonging to moving objects and even the direction of movement can be detected.\n",
    "\n",
    "I have used BS in openCV to calculate the foreground mask: \n",
    "https://docs.opencv.org/4.x/d7/df6/classcv_1_1BackgroundSubtractor.html"
   ]
  },
  {
   "cell_type": "code",
   "execution_count": null,
   "metadata": {},
   "outputs": [],
   "source": [
    "# Import all the required libraries\n",
    "from __future__ import print_function\n",
    "import cv2 as cv\n",
    "import argparse\n",
    "import numpy as np\n",
    "from matplotlib import pyplot as plt\n",
    "import os\n",
    "import sys\n",
    "sys.argv=['']\n",
    "del sys"
   ]
  },
  {
   "cell_type": "code",
   "execution_count": null,
   "metadata": {},
   "outputs": [],
   "source": [
    "# Import data \n",
    "data_dir = 'data/dataset/'\n",
    "save_dir = 'data/foreground/'\n",
    "\n",
    "parser = argparse.ArgumentParser(description = 'This program shows how to use background subtraction methods provided by \\\n",
    "                                              OpenCV. You can process both videos and images.')\n",
    "parser.add_argument('--input', type = str, help = 'Path to a sequence of image.', default = data_dir + 'frame1.png')\n",
    "parser.add_argument('--algo', type = str, help = 'Background subtraction method (KNN, MOG2).', default ='MOG2')\n",
    "args = parser.parse_args()"
   ]
  },
  {
   "cell_type": "code",
   "execution_count": null,
   "metadata": {},
   "outputs": [],
   "source": [
    "# Create Background Subtractor objects\n",
    "if args.algo == 'MOG2':\n",
    "    backSub = cv.createBackgroundSubtractorMOG2()\n",
    "else:\n",
    "    backSub = cv.createBackgroundSubtractorKNN()\n",
    "    \n",
    "# Loop through all image slices\n",
    "p     = 0   # saving image index\n",
    "res   = []   \n",
    "count = 0  # since the first frame is not subtracted\n",
    "\n",
    "for i in os.listdir(data_dir):\n",
    "    frame  = cv.imread(str(data_dir) + str(i))  # reading each single frame\n",
    "    fgMask = backSub.apply(frame) # update the background model   \n",
    "    cv.imwrite(str(save_dir) + str(p)+'.jpg', fgMask) # write the foreground mask\n",
    "    \n",
    "    img = fgMask\n",
    "    height ,width = img.shape[:2]\n",
    "    TP = width * height # total number of pixels in each image\n",
    "    non_zero_pix = 100*(TP-np.sum(img == 0))/TP  # total percentage of NON zero values in an image \n",
    "    \n",
    "    print('Number of white pixels:', non_zero_pix)\n",
    "    if p ! = 0 and non_zero_pix > 10:  # if total number of NON zero values is more than 10%\n",
    "        count + = 1\n",
    "        res.append(1)\n",
    "    else:\n",
    "        res.append(0)\n",
    "    p = p + 1\n",
    "print('Number of moving frames:', count)  \n",
    "print('moving frames:',res)"
   ]
  }
 ],
 "metadata": {
  "kernelspec": {
   "display_name": "Python 3 (ipykernel)",
   "language": "python",
   "name": "python3"
  },
  "language_info": {
   "codemirror_mode": {
    "name": "ipython",
    "version": 3
   },
   "file_extension": ".py",
   "mimetype": "text/x-python",
   "name": "python",
   "nbconvert_exporter": "python",
   "pygments_lexer": "ipython3",
   "version": "3.9.5"
  }
 },
 "nbformat": 4,
 "nbformat_minor": 4
}
